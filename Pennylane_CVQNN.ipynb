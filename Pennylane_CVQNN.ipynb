{
  "nbformat": 4,
  "nbformat_minor": 0,
  "metadata": {
    "colab": {
      "name": "Pennylane_CVQNN.ipynb",
      "provenance": [],
      "collapsed_sections": [],
      "authorship_tag": "ABX9TyPuAHg6K2LKyDmPFwGNJMKl",
      "include_colab_link": true
    },
    "kernelspec": {
      "display_name": "Python 3",
      "name": "python3"
    },
    "language_info": {
      "name": "python"
    }
  },
  "cells": [
    {
      "cell_type": "markdown",
      "metadata": {
        "id": "view-in-github",
        "colab_type": "text"
      },
      "source": [
        "<a href=\"https://colab.research.google.com/github/BankNatchapol/CV-QNN/blob/main/Pennylane_CVQNN.ipynb\" target=\"_parent\"><img src=\"https://colab.research.google.com/assets/colab-badge.svg\" alt=\"Open In Colab\"/></a>"
      ]
    },
    {
      "cell_type": "markdown",
      "metadata": {
        "id": "baxbWzWnWHwH"
      },
      "source": [
        "# **Installation**"
      ]
    },
    {
      "cell_type": "code",
      "metadata": {
        "id": "2Mrw-E82mORe"
      },
      "source": [
        "!pip install pennylane-sf"
      ],
      "execution_count": null,
      "outputs": []
    },
    {
      "cell_type": "markdown",
      "metadata": {
        "id": "rDGOcvA-WO63"
      },
      "source": [
        "# **Import Library**"
      ]
    },
    {
      "cell_type": "code",
      "metadata": {
        "id": "iMPWUZa1l7s4"
      },
      "source": [
        "import pennylane as qml\n",
        "from pennylane import numpy as np\n",
        "from pennylane.optimize import AdamOptimizer, QNGOptimizer\n",
        "\n",
        "import matplotlib.pyplot as plt \n",
        "import pandas as pd\n",
        "\n",
        "import tensorflow as tf\n",
        "import math"
      ],
      "execution_count": null,
      "outputs": []
    },
    {
      "cell_type": "markdown",
      "metadata": {
        "id": "xh2XNSSASWb7"
      },
      "source": [
        "# **Continuous Variable Quantum Neural Network : Function Fitting**"
      ]
    },
    {
      "cell_type": "markdown",
      "metadata": {
        "id": "J6Dct4rIWqqq"
      },
      "source": [
        "## Load Data"
      ]
    },
    {
      "cell_type": "code",
      "metadata": {
        "id": "QuSwsasadi3h"
      },
      "source": [
        "def tanh_function(x, eps=0.0):\n",
        "    \"\"\"The function f(x)=tanh(4x)+noise\"\"\"\n",
        "    return np.tanh(4*x) + eps * np.random.normal(size=x.shape)"
      ],
      "execution_count": null,
      "outputs": []
    },
    {
      "cell_type": "code",
      "metadata": {
        "colab": {
          "base_uri": "https://localhost:8080/",
          "height": 292
        },
        "id": "CBjv7fZvdmjR",
        "outputId": "04fda2fa-7c2f-4130-dc22-5dc34a957c70"
      },
      "source": [
        "X = np.linspace(-1, 1, 50)\n",
        "Y = tanh_function(X, 0.1)\n",
        "\n",
        "plt.figure()\n",
        "plt.scatter(X, Y)\n",
        "plt.xlabel(\"x\", fontsize=18)\n",
        "plt.ylabel(\"f(x)\", fontsize=18)\n",
        "plt.tick_params(axis=\"both\", which=\"major\", labelsize=16)\n",
        "plt.tick_params(axis=\"both\", which=\"minor\", labelsize=16)\n",
        "plt.show()"
      ],
      "execution_count": null,
      "outputs": [
        {
          "output_type": "display_data",
          "data": {
            "image/png": "[encoded data removed]",
            "text/plain": [
              "<Figure size 432x288 with 1 Axes>"
            ]
          },
          "metadata": {
            "tags": [],
            "needs_background": "light"
          }
        }
      ]
    },
    {
      "cell_type": "markdown",
      "metadata": {
        "id": "Zk3vx4rZWSpI"
      },
      "source": [
        "## Define Device"
      ]
    },
    {
      "cell_type": "markdown",
      "metadata": {
        "id": "c3VUz8fTW5_Q"
      },
      "source": [
        "using strawberryfields.fork device for returning continuous variable quantum fork state"
      ]
    },
    {
      "cell_type": "code",
      "metadata": {
        "id": "ZUtj9UOUmRVV"
      },
      "source": [
        "dev = qml.device(\"strawberryfields.fock\", wires=1, cutoff_dim=10)"
      ],
      "execution_count": null,
      "outputs": []
    },
    {
      "cell_type": "markdown",
      "metadata": {
        "id": "vhgHe1jTWWD5"
      },
      "source": [
        "## Define Continuous Variable Quantum Neural Network\n",
        "### Quantum Layer\n",
        "<img src=\"https://github.com/BankNatchapol/CV-QNN/blob/main/static/single-qubit-quantum-layer.png?raw=true\">"
      ]
    },
    {
      "cell_type": "code",
      "metadata": {
        "id": "8gfKU7nTmTqJ"
      },
      "source": [
        "def layer(v):\n",
        "    # Matrix multiplication of input layer\n",
        "    qml.Rotation(v[0], wires=0)\n",
        "    qml.Squeezing(v[1], 0.0, wires=0)\n",
        "    qml.Rotation(v[2], wires=0)\n",
        "\n",
        "    # Bias\n",
        "    qml.Displacement(v[3], 0.0, wires=0)\n",
        "\n",
        "    # Element-wise nonlinear transformation\n",
        "    qml.Kerr(v[4], wires=0)"
      ],
      "execution_count": null,
      "outputs": []
    },
    {
      "cell_type": "markdown",
      "metadata": {
        "id": "EiRZyt3QWgO6"
      },
      "source": [
        "### Combining Quantum Layer into Quantum Neural Network\n",
        "<img src=\"https://github.com/BankNatchapol/CV-QNN/blob/main/static/single-qubit-quantum-neural-network.png?raw=true\">"
      ]
    },
    {
      "cell_type": "code",
      "metadata": {
        "id": "6r-Atmr9mi9S"
      },
      "source": [
        "@qml.qnode(dev)\n",
        "def quantum_neural_net(var, x):\n",
        "    # Encode input x into quantum state\n",
        "    qml.Displacement(x, 0.0, wires=0)\n",
        "\n",
        "    # \"layer\" subcircuits\n",
        "    for v in var:\n",
        "        layer(v)\n",
        "\n",
        "    return qml.expval(qml.X(0))"
      ],
      "execution_count": null,
      "outputs": []
    },
    {
      "cell_type": "markdown",
      "metadata": {
        "id": "XI7kohWcWmTL"
      },
      "source": [
        "### Cost Function"
      ]
    },
    {
      "cell_type": "markdown",
      "metadata": {
        "id": "R5VZnEh5cemc"
      },
      "source": [
        "using Mean Square Error\n",
        "\n",
        "<img src=\"https://miro.medium.com/max/1400/0*oxg81Sl5QDauFysz\">"
      ]
    },
    {
      "cell_type": "code",
      "metadata": {
        "id": "f83ZxKyvmmKt"
      },
      "source": [
        "def square_loss(labels, predictions):\n",
        "    loss = 0\n",
        "    for l, p in zip(labels, predictions):\n",
        "        loss = loss + (l - p) ** 2\n",
        "\n",
        "    loss = loss / len(labels)\n",
        "    return loss"
      ],
      "execution_count": null,
      "outputs": []
    },
    {
      "cell_type": "code",
      "metadata": {
        "id": "5xquKmuomn7q"
      },
      "source": [
        "def cost(var, features, labels):\n",
        "    preds = [quantum_neural_net(var, x) for x in features]\n",
        "    return square_loss(labels, preds)"
      ],
      "execution_count": null,
      "outputs": []
    },
    {
      "cell_type": "markdown",
      "metadata": {
        "id": "Q4dwPi7PWyka"
      },
      "source": [
        "## Parameters Initialization\n",
        "4x5 Matrix of 4 layers 5 gate QNN"
      ]
    },
    {
      "cell_type": "code",
      "metadata": {
        "colab": {
          "base_uri": "https://localhost:8080/"
        },
        "id": "PMh6TYsOmqju",
        "outputId": "0e0ee824-fb17-4e95-84c3-6d0e126f8d39"
      },
      "source": [
        "np.random.seed(0)\n",
        "num_layers = 4\n",
        "var_init = 0.05 * np.random.randn(num_layers, 5)\n",
        "print(var_init)"
      ],
      "execution_count": null,
      "outputs": [
        {
          "output_type": "stream",
          "text": [
            "[[ 0.08820262  0.02000786  0.0489369   0.11204466  0.0933779 ]\n",
            " [-0.04886389  0.04750442 -0.00756786 -0.00516094  0.02052993]\n",
            " [ 0.00720218  0.07271368  0.03805189  0.00608375  0.02219316]\n",
            " [ 0.01668372  0.07470395 -0.01025791  0.01565339 -0.04270479]]\n"
          ],
          "name": "stdout"
        }
      ]
    },
    {
      "cell_type": "markdown",
      "metadata": {
        "id": "TNYSKZ6Pin-_"
      },
      "source": [
        "## Training QNN"
      ]
    },
    {
      "cell_type": "code",
      "metadata": {
        "colab": {
          "base_uri": "https://localhost:8080/"
        },
        "id": "uoVNvmktm63F",
        "outputId": "7de9cde3-63d5-45c8-f240-25b2411ceab3"
      },
      "source": [
        "opt = AdamOptimizer(0.01)\n",
        "\n",
        "loss_plot = []\n",
        "\n",
        "var = var_init\n",
        "for it in range(100):\n",
        "    var, _cost = opt.step_and_cost(lambda v: cost(v, X, Y), var)\n",
        "    loss_plot.append(_cost)\n",
        "    print(\"Iter: {:5d} | Cost: {:0.7f} \".format(it, _cost))"
      ],
      "execution_count": null,
      "outputs": [
        {
          "output_type": "stream",
          "text": [
            "Iter:     0 | Cost: 0.1132256 \n",
            "Iter:     1 | Cost: 0.0951169 \n",
            "Iter:     2 | Cost: 0.0840686 \n",
            "Iter:     3 | Cost: 0.0764727 \n",
            "Iter:     4 | Cost: 0.0711412 \n",
            "Iter:     5 | Cost: 0.0674666 \n",
            "Iter:     6 | Cost: 0.0650490 \n",
            "Iter:     7 | Cost: 0.0635786 \n",
            "Iter:     8 | Cost: 0.0627929 \n",
            "Iter:     9 | Cost: 0.0624615 \n",
            "Iter:    10 | Cost: 0.0623837 \n",
            "Iter:    11 | Cost: 0.0623909 \n",
            "Iter:    12 | Cost: 0.0623504 \n",
            "Iter:    13 | Cost: 0.0621685 \n",
            "Iter:    14 | Cost: 0.0617908 \n",
            "Iter:    15 | Cost: 0.0611994 \n",
            "Iter:    16 | Cost: 0.0604079 \n",
            "Iter:    17 | Cost: 0.0594534 \n",
            "Iter:    18 | Cost: 0.0583885 \n",
            "Iter:    19 | Cost: 0.0572725 \n",
            "Iter:    20 | Cost: 0.0561635 \n",
            "Iter:    21 | Cost: 0.0551127 \n",
            "Iter:    22 | Cost: 0.0541601 \n",
            "Iter:    23 | Cost: 0.0533322 \n",
            "Iter:    24 | Cost: 0.0526422 \n",
            "Iter:    25 | Cost: 0.0520908 \n",
            "Iter:    26 | Cost: 0.0516681 \n",
            "Iter:    27 | Cost: 0.0513564 \n",
            "Iter:    28 | Cost: 0.0511331 \n",
            "Iter:    29 | Cost: 0.0509728 \n",
            "Iter:    30 | Cost: 0.0508499 \n",
            "Iter:    31 | Cost: 0.0507402 \n",
            "Iter:    32 | Cost: 0.0506228 \n",
            "Iter:    33 | Cost: 0.0504805 \n",
            "Iter:    34 | Cost: 0.0503009 \n",
            "Iter:    35 | Cost: 0.0500762 \n",
            "Iter:    36 | Cost: 0.0498038 \n",
            "Iter:    37 | Cost: 0.0494851 \n",
            "Iter:    38 | Cost: 0.0491256 \n",
            "Iter:    39 | Cost: 0.0487339 \n",
            "Iter:    40 | Cost: 0.0483204 \n",
            "Iter:    41 | Cost: 0.0478966 \n",
            "Iter:    42 | Cost: 0.0474735 \n",
            "Iter:    43 | Cost: 0.0470612 \n",
            "Iter:    44 | Cost: 0.0466673 \n",
            "Iter:    45 | Cost: 0.0462963 \n",
            "Iter:    46 | Cost: 0.0459498 \n",
            "Iter:    47 | Cost: 0.0456260 \n",
            "Iter:    48 | Cost: 0.0453205 \n",
            "Iter:    49 | Cost: 0.0450269 \n",
            "Iter:    50 | Cost: 0.0447381 \n",
            "Iter:    51 | Cost: 0.0444472 \n",
            "Iter:    52 | Cost: 0.0441488 \n",
            "Iter:    53 | Cost: 0.0438394 \n",
            "Iter:    54 | Cost: 0.0435177 \n",
            "Iter:    55 | Cost: 0.0431852 \n",
            "Iter:    56 | Cost: 0.0428449 \n",
            "Iter:    57 | Cost: 0.0425013 \n",
            "Iter:    58 | Cost: 0.0421592 \n",
            "Iter:    59 | Cost: 0.0418230 \n",
            "Iter:    60 | Cost: 0.0414960 \n",
            "Iter:    61 | Cost: 0.0411802 \n",
            "Iter:    62 | Cost: 0.0408760 \n",
            "Iter:    63 | Cost: 0.0405824 \n",
            "Iter:    64 | Cost: 0.0402974 \n",
            "Iter:    65 | Cost: 0.0400187 \n",
            "Iter:    66 | Cost: 0.0397439 \n",
            "Iter:    67 | Cost: 0.0394711 \n",
            "Iter:    68 | Cost: 0.0391993 \n",
            "Iter:    69 | Cost: 0.0389284 \n",
            "Iter:    70 | Cost: 0.0386590 \n",
            "Iter:    71 | Cost: 0.0383924 \n",
            "Iter:    72 | Cost: 0.0381302 \n",
            "Iter:    73 | Cost: 0.0378738 \n",
            "Iter:    74 | Cost: 0.0376244 \n",
            "Iter:    75 | Cost: 0.0373824 \n",
            "Iter:    76 | Cost: 0.0371477 \n",
            "Iter:    77 | Cost: 0.0369196 \n",
            "Iter:    78 | Cost: 0.0366972 \n",
            "Iter:    79 | Cost: 0.0364794 \n",
            "Iter:    80 | Cost: 0.0362652 \n",
            "Iter:    81 | Cost: 0.0360543 \n",
            "Iter:    82 | Cost: 0.0358464 \n",
            "Iter:    83 | Cost: 0.0356418 \n",
            "Iter:    84 | Cost: 0.0354411 \n",
            "Iter:    85 | Cost: 0.0352448 \n",
            "Iter:    86 | Cost: 0.0350536 \n",
            "Iter:    87 | Cost: 0.0348675 \n",
            "Iter:    88 | Cost: 0.0346868 \n",
            "Iter:    89 | Cost: 0.0345110 \n",
            "Iter:    90 | Cost: 0.0343399 \n",
            "Iter:    91 | Cost: 0.0341730 \n",
            "Iter:    92 | Cost: 0.0340098 \n",
            "Iter:    93 | Cost: 0.0338502 \n",
            "Iter:    94 | Cost: 0.0336940 \n",
            "Iter:    95 | Cost: 0.0335412 \n",
            "Iter:    96 | Cost: 0.0333921 \n",
            "Iter:    97 | Cost: 0.0332467 \n",
            "Iter:    98 | Cost: 0.0331051 \n",
            "Iter:    99 | Cost: 0.0329673 \n"
          ],
          "name": "stdout"
        }
      ]
    },
    {
      "cell_type": "code",
      "metadata": {
        "colab": {
          "base_uri": "https://localhost:8080/",
          "height": 279
        },
        "id": "Skaspd4nn-5F",
        "outputId": "801854d7-f6cb-4f88-a435-298e4fadf026"
      },
      "source": [
        "plt.figure()\n",
        "plt.plot(loss_plot)\n",
        "plt.xlabel(\"Iter\")\n",
        "plt.ylabel(\"Cost\")\n",
        "plt.tick_params(axis=\"both\", which=\"major\")\n",
        "plt.tick_params(axis=\"both\", which=\"minor\")\n",
        "plt.show()"
      ],
      "execution_count": null,
      "outputs": [
        {
          "output_type": "display_data",
          "data": {
            "image/png": "[encoded data removed]",
            "text/plain": [
              "<Figure size 432x288 with 1 Axes>"
            ]
          },
          "metadata": {
            "tags": [],
            "needs_background": "light"
          }
        }
      ]
    },
    {
      "cell_type": "markdown",
      "metadata": {
        "id": "73lSS3QATafi"
      },
      "source": [
        "## Evaluate"
      ]
    },
    {
      "cell_type": "code",
      "metadata": {
        "id": "1S7nq2EhTgry",
        "colab": {
          "base_uri": "https://localhost:8080/"
        },
        "outputId": "e30505fe-599e-4789-e01e-449d86e08ac0"
      },
      "source": [
        "x_pred = np.linspace(-1, 1, 50)\n",
        "predictions = [quantum_neural_net(var, x_) for x_ in x_pred]\n",
        "\n",
        "print(\"Mean square error : \", cost(var, X, Y))"
      ],
      "execution_count": null,
      "outputs": [
        {
          "output_type": "stream",
          "text": [
            "Mean square error :  0.032832992417139745\n"
          ],
          "name": "stdout"
        }
      ]
    },
    {
      "cell_type": "code",
      "metadata": {
        "colab": {
          "base_uri": "https://localhost:8080/",
          "height": 279
        },
        "id": "au9Bf77Rm9j9",
        "outputId": "a551172e-00a4-4df5-8ee6-11a89ea0ee1c"
      },
      "source": [
        "plt.figure()\n",
        "plt.scatter(X, Y, label= \"actual\")\n",
        "plt.scatter(x_pred, predictions, color=\"green\", label = \"prediction\")\n",
        "plt.xlabel(\"x\")\n",
        "plt.ylabel(\"f(x)\")\n",
        "plt.tick_params(axis=\"both\", which=\"major\")\n",
        "plt.tick_params(axis=\"both\", which=\"minor\")\n",
        "plt.legend()\n",
        "plt.show()"
      ],
      "execution_count": null,
      "outputs": [
        {
          "output_type": "display_data",
          "data": {
            "image/png": "[encoded data removed]",
            "text/plain": [
              "<Figure size 432x288 with 1 Axes>"
            ]
          },
          "metadata": {
            "tags": [],
            "needs_background": "light"
          }
        }
      ]
    },
    {
      "cell_type": "markdown",
      "metadata": {
        "id": "OpZhLARnrjEn"
      },
      "source": [
        "# **Titanic - Machine Learning from Disaster**\n",
        "Dataset from https://www.kaggle.com/c/titanic "
      ]
    },
    {
      "cell_type": "markdown",
      "metadata": {
        "id": "twEIwMLyT-4h"
      },
      "source": [
        "## Load Data"
      ]
    },
    {
      "cell_type": "code",
      "metadata": {
        "colab": {
          "base_uri": "https://localhost:8080/"
        },
        "id": "EoLnLQfuYCQZ",
        "outputId": "8351a211-ffdf-47e2-c5db-dea39a690604"
      },
      "source": [
        "!wget https://github.com/BankNatchapol/CV-QNN/raw/main/static/train.csv"
      ],
      "execution_count": null,
      "outputs": [
        {
          "output_type": "stream",
          "text": [
            "--2021-07-22 13:41:28--  https://github.com/BankNatchapol/CV-QNN/raw/main/static/train.csv\n",
            "Resolving github.com (github.com)... 52.192.72.89\n",
            "Connecting to github.com (github.com)|52.192.72.89|:443... connected.\n",
            "HTTP request sent, awaiting response... 302 Found\n",
            "Location: https://raw.githubusercontent.com/BankNatchapol/CV-QNN/main/static/train.csv [following]\n",
            "--2021-07-22 13:41:28--  https://raw.githubusercontent.com/BankNatchapol/CV-QNN/main/static/train.csv\n",
            "Resolving raw.githubusercontent.com (raw.githubusercontent.com)... 185.199.108.133, 185.199.109.133, 185.199.110.133, ...\n",
            "Connecting to raw.githubusercontent.com (raw.githubusercontent.com)|185.199.108.133|:443... connected.\n",
            "HTTP request sent, awaiting response... 200 OK\n",
            "Length: 60302 (59K) [text/plain]\n",
            "Saving to: ‘train.csv’\n",
            "\n",
            "train.csv           100%[===================>]  58.89K  --.-KB/s    in 0.01s   \n",
            "\n",
            "2021-07-22 13:41:28 (4.37 MB/s) - ‘train.csv’ saved [60302/60302]\n",
            "\n"
          ],
          "name": "stdout"
        }
      ]
    },
    {
      "cell_type": "code",
      "metadata": {
        "colab": {
          "base_uri": "https://localhost:8080/",
          "height": 407
        },
        "id": "YxSrkU6jBKqF",
        "outputId": "2ba5b27c-b26f-4b0a-a29d-f6bb1e7022c9"
      },
      "source": [
        "train = pd.read_csv('train.csv')\n",
        "train"
      ],
      "execution_count": null,
      "outputs": [
        {
          "output_type": "execute_result",
          "data": {
            "text/html": [
              "<div>\n",
              "<style scoped>\n",
              "    .dataframe tbody tr th:only-of-type {\n",
              "        vertical-align: middle;\n",
              "    }\n",
              "\n",
              "    .dataframe tbody tr th {\n",
              "        vertical-align: top;\n",
              "    }\n",
              "\n",
              "    .dataframe thead th {\n",
              "        text-align: right;\n",
              "    }\n",
              "</style>\n",
              "<table border=\"1\" class=\"dataframe\">\n",
              "  <thead>\n",
              "    <tr style=\"text-align: right;\">\n",
              "      <th></th>\n",
              "      <th>PassengerId</th>\n",
              "      <th>Survived</th>\n",
              "      <th>Pclass</th>\n",
              "      <th>Name</th>\n",
              "      <th>Sex</th>\n",
              "      <th>Age</th>\n",
              "      <th>SibSp</th>\n",
              "      <th>Parch</th>\n",
              "      <th>Ticket</th>\n",
              "      <th>Fare</th>\n",
              "      <th>Cabin</th>\n",
              "      <th>Embarked</th>\n",
              "    </tr>\n",
              "  </thead>\n",
              "  <tbody>\n",
              "    <tr>\n",
              "      <th>0</th>\n",
              "      <td>1</td>\n",
              "      <td>0</td>\n",
              "      <td>3</td>\n",
              "      <td>Braund, Mr. Owen Harris</td>\n",
              "      <td>male</td>\n",
              "      <td>22.0</td>\n",
              "      <td>1</td>\n",
              "      <td>0</td>\n",
              "      <td>A/5 21171</td>\n",
              "      <td>7.2500</td>\n",
              "      <td>NaN</td>\n",
              "      <td>S</td>\n",
              "    </tr>\n",
              "    <tr>\n",
              "      <th>1</th>\n",
              "      <td>2</td>\n",
              "      <td>1</td>\n",
              "      <td>1</td>\n",
              "      <td>Cumings, Mrs. John Bradley (Florence Briggs Th...</td>\n",
              "      <td>female</td>\n",
              "      <td>38.0</td>\n",
              "      <td>1</td>\n",
              "      <td>0</td>\n",
              "      <td>PC 17599</td>\n",
              "      <td>71.2833</td>\n",
              "      <td>C85</td>\n",
              "      <td>C</td>\n",
              "    </tr>\n",
              "    <tr>\n",
              "      <th>2</th>\n",
              "      <td>3</td>\n",
              "      <td>1</td>\n",
              "      <td>3</td>\n",
              "      <td>Heikkinen, Miss. Laina</td>\n",
              "      <td>female</td>\n",
              "      <td>26.0</td>\n",
              "      <td>0</td>\n",
              "      <td>0</td>\n",
              "      <td>STON/O2. 3101282</td>\n",
              "      <td>7.9250</td>\n",
              "      <td>NaN</td>\n",
              "      <td>S</td>\n",
              "    </tr>\n",
              "    <tr>\n",
              "      <th>3</th>\n",
              "      <td>4</td>\n",
              "      <td>1</td>\n",
              "      <td>1</td>\n",
              "      <td>Futrelle, Mrs. Jacques Heath (Lily May Peel)</td>\n",
              "      <td>female</td>\n",
              "      <td>35.0</td>\n",
              "      <td>1</td>\n",
              "      <td>0</td>\n",
              "      <td>113803</td>\n",
              "      <td>53.1000</td>\n",
              "      <td>C123</td>\n",
              "      <td>S</td>\n",
              "    </tr>\n",
              "    <tr>\n",
              "      <th>4</th>\n",
              "      <td>5</td>\n",
              "      <td>0</td>\n",
              "      <td>3</td>\n",
              "      <td>Allen, Mr. William Henry</td>\n",
              "      <td>male</td>\n",
              "      <td>35.0</td>\n",
              "      <td>0</td>\n",
              "      <td>0</td>\n",
              "      <td>373450</td>\n",
              "      <td>8.0500</td>\n",
              "      <td>NaN</td>\n",
              "      <td>S</td>\n",
              "    </tr>\n",
              "    <tr>\n",
              "      <th>...</th>\n",
              "      <td>...</td>\n",
              "      <td>...</td>\n",
              "      <td>...</td>\n",
              "      <td>...</td>\n",
              "      <td>...</td>\n",
              "      <td>...</td>\n",
              "      <td>...</td>\n",
              "      <td>...</td>\n",
              "      <td>...</td>\n",
              "      <td>...</td>\n",
              "      <td>...</td>\n",
              "      <td>...</td>\n",
              "    </tr>\n",
              "    <tr>\n",
              "      <th>886</th>\n",
              "      <td>887</td>\n",
              "      <td>0</td>\n",
              "      <td>2</td>\n",
              "      <td>Montvila, Rev. Juozas</td>\n",
              "      <td>male</td>\n",
              "      <td>27.0</td>\n",
              "      <td>0</td>\n",
              "      <td>0</td>\n",
              "      <td>211536</td>\n",
              "      <td>13.0000</td>\n",
              "      <td>NaN</td>\n",
              "      <td>S</td>\n",
              "    </tr>\n",
              "    <tr>\n",
              "      <th>887</th>\n",
              "      <td>888</td>\n",
              "      <td>1</td>\n",
              "      <td>1</td>\n",
              "      <td>Graham, Miss. Margaret Edith</td>\n",
              "      <td>female</td>\n",
              "      <td>19.0</td>\n",
              "      <td>0</td>\n",
              "      <td>0</td>\n",
              "      <td>112053</td>\n",
              "      <td>30.0000</td>\n",
              "      <td>B42</td>\n",
              "      <td>S</td>\n",
              "    </tr>\n",
              "    <tr>\n",
              "      <th>888</th>\n",
              "      <td>889</td>\n",
              "      <td>0</td>\n",
              "      <td>3</td>\n",
              "      <td>Johnston, Miss. Catherine Helen \"Carrie\"</td>\n",
              "      <td>female</td>\n",
              "      <td>NaN</td>\n",
              "      <td>1</td>\n",
              "      <td>2</td>\n",
              "      <td>W./C. 6607</td>\n",
              "      <td>23.4500</td>\n",
              "      <td>NaN</td>\n",
              "      <td>S</td>\n",
              "    </tr>\n",
              "    <tr>\n",
              "      <th>889</th>\n",
              "      <td>890</td>\n",
              "      <td>1</td>\n",
              "      <td>1</td>\n",
              "      <td>Behr, Mr. Karl Howell</td>\n",
              "      <td>male</td>\n",
              "      <td>26.0</td>\n",
              "      <td>0</td>\n",
              "      <td>0</td>\n",
              "      <td>111369</td>\n",
              "      <td>30.0000</td>\n",
              "      <td>C148</td>\n",
              "      <td>C</td>\n",
              "    </tr>\n",
              "    <tr>\n",
              "      <th>890</th>\n",
              "      <td>891</td>\n",
              "      <td>0</td>\n",
              "      <td>3</td>\n",
              "      <td>Dooley, Mr. Patrick</td>\n",
              "      <td>male</td>\n",
              "      <td>32.0</td>\n",
              "      <td>0</td>\n",
              "      <td>0</td>\n",
              "      <td>370376</td>\n",
              "      <td>7.7500</td>\n",
              "      <td>NaN</td>\n",
              "      <td>Q</td>\n",
              "    </tr>\n",
              "  </tbody>\n",
              "</table>\n",
              "<p>891 rows × 12 columns</p>\n",
              "</div>"
            ],
            "text/plain": [
              "     PassengerId  Survived  Pclass  ...     Fare Cabin  Embarked\n",
              "0              1         0       3  ...   7.2500   NaN         S\n",
              "1              2         1       1  ...  71.2833   C85         C\n",
              "2              3         1       3  ...   7.9250   NaN         S\n",
              "3              4         1       1  ...  53.1000  C123         S\n",
              "4              5         0       3  ...   8.0500   NaN         S\n",
              "..           ...       ...     ...  ...      ...   ...       ...\n",
              "886          887         0       2  ...  13.0000   NaN         S\n",
              "887          888         1       1  ...  30.0000   B42         S\n",
              "888          889         0       3  ...  23.4500   NaN         S\n",
              "889          890         1       1  ...  30.0000  C148         C\n",
              "890          891         0       3  ...   7.7500   NaN         Q\n",
              "\n",
              "[891 rows x 12 columns]"
            ]
          },
          "metadata": {
            "tags": []
          },
          "execution_count": 27
        }
      ]
    },
    {
      "cell_type": "markdown",
      "metadata": {
        "id": "AMy-6GWfUCPW"
      },
      "source": [
        "## EDA"
      ]
    },
    {
      "cell_type": "code",
      "metadata": {
        "colab": {
          "base_uri": "https://localhost:8080/"
        },
        "id": "xrApmKdrCOL8",
        "outputId": "f85fd598-0762-4e57-94e8-eca4f11f9c70"
      },
      "source": [
        "train.info()"
      ],
      "execution_count": null,
      "outputs": [
        {
          "output_type": "stream",
          "text": [
            "<class 'pandas.core.frame.DataFrame'>\n",
            "RangeIndex: 891 entries, 0 to 890\n",
            "Data columns (total 12 columns):\n",
            " #   Column       Non-Null Count  Dtype  \n",
            "---  ------       --------------  -----  \n",
            " 0   PassengerId  891 non-null    int64  \n",
            " 1   Survived     891 non-null    int64  \n",
            " 2   Pclass       891 non-null    int64  \n",
            " 3   Name         891 non-null    object \n",
            " 4   Sex          891 non-null    object \n",
            " 5   Age          714 non-null    float64\n",
            " 6   SibSp        891 non-null    int64  \n",
            " 7   Parch        891 non-null    int64  \n",
            " 8   Ticket       891 non-null    object \n",
            " 9   Fare         891 non-null    float64\n",
            " 10  Cabin        204 non-null    object \n",
            " 11  Embarked     889 non-null    object \n",
            "dtypes: float64(2), int64(5), object(5)\n",
            "memory usage: 83.7+ KB\n"
          ],
          "name": "stdout"
        }
      ]
    },
    {
      "cell_type": "markdown",
      "metadata": {
        "id": "W3WNCG_QUF_O"
      },
      "source": [
        "## Feature Extraction"
      ]
    },
    {
      "cell_type": "code",
      "metadata": {
        "id": "Y9aJBiaMB8sM"
      },
      "source": [
        "feature_cols = ['Age', 'Fare']\n",
        "label = ['Survived']\n",
        "\n",
        "train_data = train[feature_cols]\n",
        "train_label = train[label]"
      ],
      "execution_count": null,
      "outputs": []
    },
    {
      "cell_type": "code",
      "metadata": {
        "colab": {
          "base_uri": "https://localhost:8080/"
        },
        "id": "MJVMcGd6Ck3E",
        "outputId": "1a0971dd-7caf-47e9-bb59-bcb1db827003"
      },
      "source": [
        "train_data['Age'] = train_data['Age'].fillna(train_data['Age'].mean())\n",
        "train_data.info()"
      ],
      "execution_count": null,
      "outputs": [
        {
          "output_type": "stream",
          "text": [
            "<class 'pandas.core.frame.DataFrame'>\n",
            "RangeIndex: 891 entries, 0 to 890\n",
            "Data columns (total 2 columns):\n",
            " #   Column  Non-Null Count  Dtype  \n",
            "---  ------  --------------  -----  \n",
            " 0   Age     891 non-null    float64\n",
            " 1   Fare    891 non-null    float64\n",
            "dtypes: float64(2)\n",
            "memory usage: 14.0 KB\n"
          ],
          "name": "stdout"
        },
        {
          "output_type": "stream",
          "text": [
            "/usr/local/lib/python3.7/dist-packages/ipykernel_launcher.py:1: SettingWithCopyWarning: \n",
            "A value is trying to be set on a copy of a slice from a DataFrame.\n",
            "Try using .loc[row_indexer,col_indexer] = value instead\n",
            "\n",
            "See the caveats in the documentation: https://pandas.pydata.org/pandas-docs/stable/user_guide/indexing.html#returning-a-view-versus-a-copy\n"
          ],
          "name": "stderr"
        }
      ]
    },
    {
      "cell_type": "code",
      "metadata": {
        "colab": {
          "base_uri": "https://localhost:8080/",
          "height": 198
        },
        "id": "ojy5Laf_Cv7r",
        "outputId": "a6b0b79c-4b0e-4a8f-ef60-58093ee48d57"
      },
      "source": [
        "train_data.head()"
      ],
      "execution_count": null,
      "outputs": [
        {
          "output_type": "execute_result",
          "data": {
            "text/html": [
              "<div>\n",
              "<style scoped>\n",
              "    .dataframe tbody tr th:only-of-type {\n",
              "        vertical-align: middle;\n",
              "    }\n",
              "\n",
              "    .dataframe tbody tr th {\n",
              "        vertical-align: top;\n",
              "    }\n",
              "\n",
              "    .dataframe thead th {\n",
              "        text-align: right;\n",
              "    }\n",
              "</style>\n",
              "<table border=\"1\" class=\"dataframe\">\n",
              "  <thead>\n",
              "    <tr style=\"text-align: right;\">\n",
              "      <th></th>\n",
              "      <th>Age</th>\n",
              "      <th>Fare</th>\n",
              "    </tr>\n",
              "  </thead>\n",
              "  <tbody>\n",
              "    <tr>\n",
              "      <th>0</th>\n",
              "      <td>22.0</td>\n",
              "      <td>7.2500</td>\n",
              "    </tr>\n",
              "    <tr>\n",
              "      <th>1</th>\n",
              "      <td>38.0</td>\n",
              "      <td>71.2833</td>\n",
              "    </tr>\n",
              "    <tr>\n",
              "      <th>2</th>\n",
              "      <td>26.0</td>\n",
              "      <td>7.9250</td>\n",
              "    </tr>\n",
              "    <tr>\n",
              "      <th>3</th>\n",
              "      <td>35.0</td>\n",
              "      <td>53.1000</td>\n",
              "    </tr>\n",
              "    <tr>\n",
              "      <th>4</th>\n",
              "      <td>35.0</td>\n",
              "      <td>8.0500</td>\n",
              "    </tr>\n",
              "  </tbody>\n",
              "</table>\n",
              "</div>"
            ],
            "text/plain": [
              "    Age     Fare\n",
              "0  22.0   7.2500\n",
              "1  38.0  71.2833\n",
              "2  26.0   7.9250\n",
              "3  35.0  53.1000\n",
              "4  35.0   8.0500"
            ]
          },
          "metadata": {
            "tags": []
          },
          "execution_count": 31
        }
      ]
    },
    {
      "cell_type": "code",
      "metadata": {
        "colab": {
          "base_uri": "https://localhost:8080/"
        },
        "id": "gYTLeFEXuRZv",
        "outputId": "d73e5af6-87d1-4734-ac1c-613b0dda85d4"
      },
      "source": [
        "# Standard Scaler\n",
        "train_data[['Age']] = (train_data[['Age']] - train_data[['Age']].min())/train_data[['Age']].max()\n",
        "train_data[['Fare']] = (train_data[['Fare']] - train_data[['Fare']].min())/train_data[['Fare']].max()"
      ],
      "execution_count": null,
      "outputs": [
        {
          "output_type": "stream",
          "text": [
            "/usr/local/lib/python3.7/dist-packages/pandas/core/frame.py:3069: SettingWithCopyWarning: \n",
            "A value is trying to be set on a copy of a slice from a DataFrame.\n",
            "Try using .loc[row_indexer,col_indexer] = value instead\n",
            "\n",
            "See the caveats in the documentation: https://pandas.pydata.org/pandas-docs/stable/user_guide/indexing.html#returning-a-view-versus-a-copy\n"
          ],
          "name": "stderr"
        }
      ]
    },
    {
      "cell_type": "code",
      "metadata": {
        "colab": {
          "base_uri": "https://localhost:8080/",
          "height": 198
        },
        "id": "jp7-6tnevIiB",
        "outputId": "d15e5768-6fda-439d-d346-f8d217ee6d72"
      },
      "source": [
        "train_data.head()"
      ],
      "execution_count": null,
      "outputs": [
        {
          "output_type": "execute_result",
          "data": {
            "text/html": [
              "<div>\n",
              "<style scoped>\n",
              "    .dataframe tbody tr th:only-of-type {\n",
              "        vertical-align: middle;\n",
              "    }\n",
              "\n",
              "    .dataframe tbody tr th {\n",
              "        vertical-align: top;\n",
              "    }\n",
              "\n",
              "    .dataframe thead th {\n",
              "        text-align: right;\n",
              "    }\n",
              "</style>\n",
              "<table border=\"1\" class=\"dataframe\">\n",
              "  <thead>\n",
              "    <tr style=\"text-align: right;\">\n",
              "      <th></th>\n",
              "      <th>Age</th>\n",
              "      <th>Fare</th>\n",
              "    </tr>\n",
              "  </thead>\n",
              "  <tbody>\n",
              "    <tr>\n",
              "      <th>0</th>\n",
              "      <td>0.26975</td>\n",
              "      <td>0.014151</td>\n",
              "    </tr>\n",
              "    <tr>\n",
              "      <th>1</th>\n",
              "      <td>0.46975</td>\n",
              "      <td>0.139136</td>\n",
              "    </tr>\n",
              "    <tr>\n",
              "      <th>2</th>\n",
              "      <td>0.31975</td>\n",
              "      <td>0.015469</td>\n",
              "    </tr>\n",
              "    <tr>\n",
              "      <th>3</th>\n",
              "      <td>0.43225</td>\n",
              "      <td>0.103644</td>\n",
              "    </tr>\n",
              "    <tr>\n",
              "      <th>4</th>\n",
              "      <td>0.43225</td>\n",
              "      <td>0.015713</td>\n",
              "    </tr>\n",
              "  </tbody>\n",
              "</table>\n",
              "</div>"
            ],
            "text/plain": [
              "       Age      Fare\n",
              "0  0.26975  0.014151\n",
              "1  0.46975  0.139136\n",
              "2  0.31975  0.015469\n",
              "3  0.43225  0.103644\n",
              "4  0.43225  0.015713"
            ]
          },
          "metadata": {
            "tags": []
          },
          "execution_count": 33
        }
      ]
    },
    {
      "cell_type": "markdown",
      "metadata": {
        "id": "e2DqGmcnULv2"
      },
      "source": [
        "## Continuous Variable Quantum Neural Network"
      ]
    },
    {
      "cell_type": "markdown",
      "metadata": {
        "id": "2WgCyKooffv9"
      },
      "source": [
        "<img src=\"https://github.com/BankNatchapol/CV-QNN/blob/main/static/titanic-qnn.png?raw=true\">"
      ]
    },
    {
      "cell_type": "code",
      "metadata": {
        "id": "EdXwDKtSed5l"
      },
      "source": [
        "num_modes = 2"
      ],
      "execution_count": null,
      "outputs": []
    },
    {
      "cell_type": "code",
      "metadata": {
        "id": "CHzB-TimDDWT"
      },
      "source": [
        "dev = qml.device(\"strawberryfields.fock\", wires=num_modes, cutoff_dim=10)"
      ],
      "execution_count": null,
      "outputs": []
    },
    {
      "cell_type": "markdown",
      "metadata": {
        "id": "Y-YhDIfcUUuJ"
      },
      "source": [
        "### Define Layers"
      ]
    },
    {
      "cell_type": "code",
      "metadata": {
        "id": "OyiFam-JC2DG"
      },
      "source": [
        "def Interferometer(theta, phi, varphi, wires, mesh='rectangular', beamsplitter='pennylane'):\n",
        "    w = wires\n",
        "    M = len(w)\n",
        "\n",
        "    if M == 1:\n",
        "        # the interferometer is a single rotation\n",
        "        qml.Rotation(varphi[0], wires=w[0])\n",
        "        return\n",
        "\n",
        "    n = 0 # keep track of free parameters\n",
        "\n",
        "    if mesh == 'rectangular':\n",
        "        # Apply the Clements beamsplitter array\n",
        "        # The array depth is N\n",
        "        for l in range(M):\n",
        "            for k, (w1, w2) in enumerate(zip(w[:-1], w[1:])):\n",
        "                #skip even or odd pairs depending on layer\n",
        "                if (l+k)%2 != 1:\n",
        "                    if beamsplitter == 'clements':\n",
        "                        qml.Rotation(phi[n], wires=[w1])\n",
        "                        qml.Beamsplitter(theta[n], 0, wires=[w1, w2])\n",
        "                    else:\n",
        "                        qml.Beamsplitter(theta[n], phi[n], wires=[w1, w2])\n",
        "                    n += 1\n",
        "\n",
        "    elif mesh == 'triangular':\n",
        "        # apply the Reck beamsplitter array\n",
        "        # The array depth is 2*N-3\n",
        "        for l in range(2*M-3):\n",
        "            for k in range(abs(l+1-(M-1)), M-1, 2):\n",
        "                if beamsplitter == 'clements':\n",
        "                    qml.Rotation(phi[n], wires=[w[k]])\n",
        "                    qml.Beamsplitter(theta[n], 0, wires=[w[k], w[k+1]])\n",
        "                else:\n",
        "                    qml.Beamsplitter(theta[n], phi[n], wires=[w[k], w[k+1]])\n",
        "                n += 1\n",
        "\n",
        "    # apply the final local phase shifts to all modes\n",
        "    for i, p in enumerate(varphi):\n",
        "        qml.Rotation(p, wires=[w[i]])\n",
        "\n",
        "def layer(v):\n",
        "    wires = list(range(num_modes))\n",
        "\n",
        "    # Matrix multiplication of input layer\n",
        "    if len(wires) == 1:\n",
        "      s = 0\n",
        "      Interferometer(None, None, v[s], wires)\n",
        "    else:\n",
        "      s = (num_list[num_modes-1] - 3*num_modes)//2\n",
        "      Interferometer(v[0:s-num_modes+1], v[s-num_modes+1:2*(s-num_modes+1)], v[2*(s-num_modes+1):s], wires)\n",
        "    for i in range(len(wires)):\n",
        "      qml.Squeezing(v[s + i], 0.0, wires= i)\n",
        "\n",
        "    n = s + len(wires)\n",
        "    if len(wires) == 1:\n",
        "      sl = 0\n",
        "      Interferometer(None, None, v[n + sl], wires)\n",
        "    else:\n",
        "      sl = n+s\n",
        "      Interferometer(v[n:n+s-num_modes+1], v[n+s-num_modes+1:n+2*(s-num_modes+1)], v[n+2*(s-num_modes+1):sl], wires)\n",
        "    \n",
        "\n",
        "    # Bias\n",
        "    for i in range(len(wires)):\n",
        "      qml.Displacement(v[sl + i], 0.0, wires= i)\n",
        "    \n",
        "\n",
        "    # Element-wise nonlinear transformation\n",
        "    ken = sl + len(wires)\n",
        "    for i in range(len(wires)):\n",
        "      qml.Kerr(v[ken + i], wires= i)\n"
      ],
      "execution_count": null,
      "outputs": []
    },
    {
      "cell_type": "code",
      "metadata": {
        "id": "Ldap90L2KYv0"
      },
      "source": [
        "@qml.qnode(dev)\n",
        "def quantum_neural_net(var, x):\n",
        "    # Encode input x into quantum state\n",
        "    for i in range(num_modes):\n",
        "      qml.Displacement(x[i], 0.0, wires=i)\n",
        "\n",
        "    # \"layer\" subcircuits\n",
        "    for v in var:\n",
        "        layer(v)\n",
        "        \n",
        "    return [qml.expval(qml.X(i)) for i in range(num_modes)]"
      ],
      "execution_count": null,
      "outputs": []
    },
    {
      "cell_type": "markdown",
      "metadata": {
        "id": "Ali4Y1i_Ua8x"
      },
      "source": [
        "### Parameters Initialization"
      ]
    },
    {
      "cell_type": "code",
      "metadata": {
        "colab": {
          "base_uri": "https://localhost:8080/"
        },
        "id": "xWKCYpOWLwYH",
        "outputId": "88a2e381-f1ac-4882-df63-28b499235274"
      },
      "source": [
        "num_list = [5, 12, 25]\n",
        "for i in range(4, 10):\n",
        "  num_list.append(i*3 + (2*(num_list[-1] - (i-1)*3) - (num_list[-2] - (i-2)*3) + 4))\n",
        "  \n",
        "\n",
        "np.random.seed(0)\n",
        "num_layers = 2\n",
        "var_init = 0.05 * np.random.randn(num_layers, num_list[num_modes-1])\n",
        "print(var_init)"
      ],
      "execution_count": null,
      "outputs": [
        {
          "output_type": "stream",
          "text": [
            "[[ 0.08820262  0.02000786  0.0489369   0.11204466  0.0933779  -0.04886389\n",
            "   0.04750442 -0.00756786 -0.00516094  0.02052993  0.00720218  0.07271368]\n",
            " [ 0.03805189  0.00608375  0.02219316  0.01668372  0.07470395 -0.01025791\n",
            "   0.01565339 -0.04270479 -0.12764949  0.03268093  0.04322181 -0.03710825]]\n"
          ],
          "name": "stdout"
        }
      ]
    },
    {
      "cell_type": "markdown",
      "metadata": {
        "id": "9xR_6z_dUkkr"
      },
      "source": [
        "### Cost Function"
      ]
    },
    {
      "cell_type": "markdown",
      "metadata": {
        "id": "jIqmh-Pbfyvx"
      },
      "source": [
        "using Mean Square Error\n",
        "\n",
        "<img src=\"https://miro.medium.com/max/1400/0*oxg81Sl5QDauFysz\">"
      ]
    },
    {
      "cell_type": "code",
      "metadata": {
        "id": "oSAWGRTlgS8U"
      },
      "source": [
        "def square_loss(labels, predictions):\n",
        "    loss = 0\n",
        "    for l, p in zip(labels, predictions):\n",
        "        loss = loss + (l - p) ** 2\n",
        "\n",
        "    loss = loss / len(labels)\n",
        "    return loss"
      ],
      "execution_count": null,
      "outputs": []
    },
    {
      "cell_type": "code",
      "metadata": {
        "id": "lUKDTiLJZF6b"
      },
      "source": [
        "def cost(var, features, labels):\n",
        "    preds = [quantum_neural_net(var, x)[0] for x in features]\n",
        "    return square_loss(labels, preds)"
      ],
      "execution_count": null,
      "outputs": []
    },
    {
      "cell_type": "markdown",
      "metadata": {
        "id": "wWnasRreUnK6"
      },
      "source": [
        "### Training QNN"
      ]
    },
    {
      "cell_type": "code",
      "metadata": {
        "colab": {
          "base_uri": "https://localhost:8080/"
        },
        "id": "WhRMRAkEZPTF",
        "outputId": "a42a48a7-049a-42d1-ce72-5ef9b7dd6b82"
      },
      "source": [
        "X = np.array(train_data.to_numpy())\n",
        "Y = np.array(train_label.to_numpy().T[0])\n",
        "\n",
        "opt = AdamOptimizer(0.01, beta1=0.9, beta2=0.999)\n",
        "\n",
        "loss_plot = []\n",
        "\n",
        "var = var_init\n",
        "for it in range(100):\n",
        "    var, _cost = opt.step_and_cost(lambda v: cost(v, X, Y), var)\n",
        "    loss_plot.append(_cost)\n",
        "    print(\"Iter: {:5d} | Cost: {:0.7f} \".format(it, _cost))"
      ],
      "execution_count": null,
      "outputs": [
        {
          "output_type": "stream",
          "text": [
            "Iter:     0 | Cost: 0.3392135 \n",
            "Iter:     1 | Cost: 0.3373101 \n",
            "Iter:     2 | Cost: 0.3360096 \n",
            "Iter:     3 | Cost: 0.3349394 \n",
            "Iter:     4 | Cost: 0.3339723 \n",
            "Iter:     5 | Cost: 0.3330457 \n",
            "Iter:     6 | Cost: 0.3321256 \n",
            "Iter:     7 | Cost: 0.3311931 \n",
            "Iter:     8 | Cost: 0.3302394 \n",
            "Iter:     9 | Cost: 0.3292618 \n",
            "Iter:    10 | Cost: 0.3282612 \n",
            "Iter:    11 | Cost: 0.3272405 \n",
            "Iter:    12 | Cost: 0.3262029 \n",
            "Iter:    13 | Cost: 0.3251510 \n",
            "Iter:    14 | Cost: 0.3240857 \n",
            "Iter:    15 | Cost: 0.3230063 \n",
            "Iter:    16 | Cost: 0.3219098 \n",
            "Iter:    17 | Cost: 0.3207919 \n",
            "Iter:    18 | Cost: 0.3196465 \n",
            "Iter:    19 | Cost: 0.3184668 \n",
            "Iter:    20 | Cost: 0.3172457 \n",
            "Iter:    21 | Cost: 0.3159762 \n",
            "Iter:    22 | Cost: 0.3146520 \n",
            "Iter:    23 | Cost: 0.3132676 \n",
            "Iter:    24 | Cost: 0.3118188 \n",
            "Iter:    25 | Cost: 0.3103022 \n",
            "Iter:    26 | Cost: 0.3087157 \n",
            "Iter:    27 | Cost: 0.3070578 \n",
            "Iter:    28 | Cost: 0.3053276 \n",
            "Iter:    29 | Cost: 0.3035245 \n",
            "Iter:    30 | Cost: 0.3016482 \n",
            "Iter:    31 | Cost: 0.2996983 \n",
            "Iter:    32 | Cost: 0.2976742 \n",
            "Iter:    33 | Cost: 0.2955756 \n",
            "Iter:    34 | Cost: 0.2934022 \n",
            "Iter:    35 | Cost: 0.2911541 \n",
            "Iter:    36 | Cost: 0.2888317 \n",
            "Iter:    37 | Cost: 0.2864360 \n",
            "Iter:    38 | Cost: 0.2839688 \n",
            "Iter:    39 | Cost: 0.2814327 \n",
            "Iter:    40 | Cost: 0.2788309 \n",
            "Iter:    41 | Cost: 0.2761676 \n",
            "Iter:    42 | Cost: 0.2734475 \n",
            "Iter:    43 | Cost: 0.2706764 \n",
            "Iter:    44 | Cost: 0.2678608 \n",
            "Iter:    45 | Cost: 0.2650081 \n",
            "Iter:    46 | Cost: 0.2621278 \n",
            "Iter:    47 | Cost: 0.2592319 \n",
            "Iter:    48 | Cost: 0.2563367 \n",
            "Iter:    49 | Cost: 0.2534645 \n",
            "Iter:    50 | Cost: 0.2506447 \n",
            "Iter:    51 | Cost: 0.2479116 \n",
            "Iter:    52 | Cost: 0.2452986 \n",
            "Iter:    53 | Cost: 0.2428295 \n",
            "Iter:    54 | Cost: 0.2405147 \n",
            "Iter:    55 | Cost: 0.2383556 \n",
            "Iter:    56 | Cost: 0.2363511 \n",
            "Iter:    57 | Cost: 0.2345063 \n",
            "Iter:    58 | Cost: 0.2328419 \n",
            "Iter:    59 | Cost: 0.2313920 \n",
            "Iter:    60 | Cost: 0.2301714 \n",
            "Iter:    61 | Cost: 0.2291457 \n",
            "Iter:    62 | Cost: 0.2282629 \n",
            "Iter:    63 | Cost: 0.2274961 \n",
            "Iter:    64 | Cost: 0.2268419 \n",
            "Iter:    65 | Cost: 0.2262930 \n",
            "Iter:    66 | Cost: 0.2258198 \n",
            "Iter:    67 | Cost: 0.2253823 \n",
            "Iter:    68 | Cost: 0.2249555 \n",
            "Iter:    69 | Cost: 0.2245419 \n",
            "Iter:    70 | Cost: 0.2241551 \n",
            "Iter:    71 | Cost: 0.2237939 \n",
            "Iter:    72 | Cost: 0.2234378 \n",
            "Iter:    73 | Cost: 0.2230709 \n",
            "Iter:    74 | Cost: 0.2227008 \n",
            "Iter:    75 | Cost: 0.2223470 \n",
            "Iter:    76 | Cost: 0.2220129 \n",
            "Iter:    77 | Cost: 0.2216838 \n",
            "Iter:    78 | Cost: 0.2213581 \n",
            "Iter:    79 | Cost: 0.2210537 \n",
            "Iter:    80 | Cost: 0.2207765 \n",
            "Iter:    81 | Cost: 0.2205140 \n",
            "Iter:    82 | Cost: 0.2202599 \n",
            "Iter:    83 | Cost: 0.2200238 \n",
            "Iter:    84 | Cost: 0.2198116 \n",
            "Iter:    85 | Cost: 0.2196068 \n",
            "Iter:    86 | Cost: 0.2194038 \n",
            "Iter:    87 | Cost: 0.2192218 \n",
            "Iter:    88 | Cost: 0.2190481 \n",
            "Iter:    89 | Cost: 0.2188819 \n",
            "Iter:    90 | Cost: 0.2187325 \n",
            "Iter:    91 | Cost: 0.2185764 \n",
            "Iter:    92 | Cost: 0.2184349 \n",
            "Iter:    93 | Cost: 0.2182838 \n",
            "Iter:    94 | Cost: 0.2181444 \n",
            "Iter:    95 | Cost: 0.2179963 \n",
            "Iter:    96 | Cost: 0.2178599 \n",
            "Iter:    97 | Cost: 0.2177206 \n",
            "Iter:    98 | Cost: 0.2175924 \n",
            "Iter:    99 | Cost: 0.2174640 \n"
          ],
          "name": "stdout"
        }
      ]
    },
    {
      "cell_type": "code",
      "metadata": {
        "colab": {
          "base_uri": "https://localhost:8080/",
          "height": 279
        },
        "id": "woTqGc8xQsVN",
        "outputId": "a3e5e165-6741-47cb-b500-dda99289ad1d"
      },
      "source": [
        "plt.figure()\n",
        "plt.plot(loss_plot)\n",
        "plt.xlabel(\"Iter\")\n",
        "plt.ylabel(\"Cost\")\n",
        "plt.tick_params(axis=\"both\", which=\"major\")\n",
        "plt.tick_params(axis=\"both\", which=\"minor\")\n",
        "plt.show()"
      ],
      "execution_count": null,
      "outputs": [
        {
          "output_type": "display_data",
          "data": {
            "image/png": "[encoded data removed]",
            "text/plain": [
              "<Figure size 432x288 with 1 Axes>"
            ]
          },
          "metadata": {
            "tags": [],
            "needs_background": "light"
          }
        }
      ]
    },
    {
      "cell_type": "markdown",
      "metadata": {
        "id": "uxyaw3n1Usdz"
      },
      "source": [
        "### Evaluate"
      ]
    },
    {
      "cell_type": "code",
      "metadata": {
        "id": "9ivxBVC1nArf",
        "colab": {
          "base_uri": "https://localhost:8080/"
        },
        "outputId": "78283409-e47f-4b90-9fc3-665bad23f373"
      },
      "source": [
        "re = []\n",
        "for i in range(len(X)):\n",
        "  re.append(int(quantum_neural_net(var, X[i])[0]>0.5))\n",
        "\n",
        "su = 0\n",
        "for i in range(len(Y)):\n",
        "  su += int(Y[i]==re[i])\n",
        "print(\"Accuracy : \", su/len(Y))"
      ],
      "execution_count": null,
      "outputs": [
        {
          "output_type": "stream",
          "text": [
            "Accuracy :  0.67003367003367\n"
          ],
          "name": "stdout"
        }
      ]
    },
    {
      "cell_type": "markdown",
      "metadata": {
        "id": "SFD8GsYe3gXf"
      },
      "source": [
        "## Compare Continuous Variable Quantum Neural Network with Classical Neural Network "
      ]
    },
    {
      "cell_type": "code",
      "metadata": {
        "id": "X9-HWmMUoYHw",
        "colab": {
          "base_uri": "https://localhost:8080/"
        },
        "outputId": "0c7da4d3-fd10-47ef-a80a-e56ccb049e47"
      },
      "source": [
        "model = tf.keras.models.Sequential()\n",
        "model.add(tf.keras.layers.Dense(units = 10, activation = 'relu', input_shape = (2, )))\n",
        "model.add(tf.keras.layers.Dense(units = 10, activation = 'relu'))\n",
        "model.add(tf.keras.layers.Dense(units = 1, activation = 'sigmoid'))\n",
        "\n",
        "model.compile(optimizer = 'adam', loss = 'mean_squared_error', metrics = ['accuracy'])\n",
        "\n",
        "history = model.fit(X.reshape(-1, 2), Y, epochs =100)"
      ],
      "execution_count": null,
      "outputs": [
        {
          "output_type": "stream",
          "text": [
            "Epoch 1/100\n",
            "28/28 [==============================] - 1s 1ms/step - loss: 0.2407 - accuracy: 0.6296\n",
            "Epoch 2/100\n",
            "28/28 [==============================] - 0s 1ms/step - loss: 0.2351 - accuracy: 0.6207\n",
            "Epoch 3/100\n",
            "28/28 [==============================] - 0s 1ms/step - loss: 0.2326 - accuracy: 0.6207\n",
            "Epoch 4/100\n",
            "28/28 [==============================] - 0s 1ms/step - loss: 0.2312 - accuracy: 0.6218\n",
            "Epoch 5/100\n",
            "28/28 [==============================] - 0s 2ms/step - loss: 0.2303 - accuracy: 0.6207\n",
            "Epoch 6/100\n",
            "28/28 [==============================] - 0s 1ms/step - loss: 0.2289 - accuracy: 0.6263\n",
            "Epoch 7/100\n",
            "28/28 [==============================] - 0s 1ms/step - loss: 0.2279 - accuracy: 0.6251\n",
            "Epoch 8/100\n",
            "28/28 [==============================] - 0s 1ms/step - loss: 0.2269 - accuracy: 0.6285\n",
            "Epoch 9/100\n",
            "28/28 [==============================] - 0s 2ms/step - loss: 0.2261 - accuracy: 0.6285\n",
            "Epoch 10/100\n",
            "28/28 [==============================] - 0s 1ms/step - loss: 0.2251 - accuracy: 0.6308\n",
            "Epoch 11/100\n",
            "28/28 [==============================] - 0s 1ms/step - loss: 0.2241 - accuracy: 0.6352\n",
            "Epoch 12/100\n",
            "28/28 [==============================] - 0s 1ms/step - loss: 0.2233 - accuracy: 0.6375\n",
            "Epoch 13/100\n",
            "28/28 [==============================] - 0s 1ms/step - loss: 0.2225 - accuracy: 0.6476\n",
            "Epoch 14/100\n",
            "28/28 [==============================] - 0s 1ms/step - loss: 0.2217 - accuracy: 0.6487\n",
            "Epoch 15/100\n",
            "28/28 [==============================] - 0s 1ms/step - loss: 0.2214 - accuracy: 0.6510\n",
            "Epoch 16/100\n",
            "28/28 [==============================] - 0s 1ms/step - loss: 0.2201 - accuracy: 0.6521\n",
            "Epoch 17/100\n",
            "28/28 [==============================] - 0s 1ms/step - loss: 0.2195 - accuracy: 0.6532\n",
            "Epoch 18/100\n",
            "28/28 [==============================] - 0s 1ms/step - loss: 0.2188 - accuracy: 0.6566\n",
            "Epoch 19/100\n",
            "28/28 [==============================] - 0s 1ms/step - loss: 0.2180 - accuracy: 0.6577\n",
            "Epoch 20/100\n",
            "28/28 [==============================] - 0s 2ms/step - loss: 0.2175 - accuracy: 0.6566\n",
            "Epoch 21/100\n",
            "28/28 [==============================] - 0s 1ms/step - loss: 0.2168 - accuracy: 0.6588\n",
            "Epoch 22/100\n",
            "28/28 [==============================] - 0s 1ms/step - loss: 0.2161 - accuracy: 0.6655\n",
            "Epoch 23/100\n",
            "28/28 [==============================] - 0s 1ms/step - loss: 0.2156 - accuracy: 0.6633\n",
            "Epoch 24/100\n",
            "28/28 [==============================] - 0s 2ms/step - loss: 0.2151 - accuracy: 0.6577\n",
            "Epoch 25/100\n",
            "28/28 [==============================] - 0s 1ms/step - loss: 0.2146 - accuracy: 0.6566\n",
            "Epoch 26/100\n",
            "28/28 [==============================] - 0s 1ms/step - loss: 0.2143 - accuracy: 0.6577\n",
            "Epoch 27/100\n",
            "28/28 [==============================] - 0s 2ms/step - loss: 0.2139 - accuracy: 0.6622\n",
            "Epoch 28/100\n",
            "28/28 [==============================] - 0s 2ms/step - loss: 0.2142 - accuracy: 0.6588\n",
            "Epoch 29/100\n",
            "28/28 [==============================] - 0s 1ms/step - loss: 0.2131 - accuracy: 0.6667\n",
            "Epoch 30/100\n",
            "28/28 [==============================] - 0s 1ms/step - loss: 0.2127 - accuracy: 0.6655\n",
            "Epoch 31/100\n",
            "28/28 [==============================] - 0s 2ms/step - loss: 0.2126 - accuracy: 0.6622\n",
            "Epoch 32/100\n",
            "28/28 [==============================] - 0s 1ms/step - loss: 0.2123 - accuracy: 0.6779\n",
            "Epoch 33/100\n",
            "28/28 [==============================] - 0s 1ms/step - loss: 0.2123 - accuracy: 0.6667\n",
            "Epoch 34/100\n",
            "28/28 [==============================] - 0s 1ms/step - loss: 0.2114 - accuracy: 0.6835\n",
            "Epoch 35/100\n",
            "28/28 [==============================] - 0s 1ms/step - loss: 0.2112 - accuracy: 0.6768\n",
            "Epoch 36/100\n",
            "28/28 [==============================] - 0s 1ms/step - loss: 0.2110 - accuracy: 0.6902\n",
            "Epoch 37/100\n",
            "28/28 [==============================] - 0s 2ms/step - loss: 0.2108 - accuracy: 0.6779\n",
            "Epoch 38/100\n",
            "28/28 [==============================] - 0s 1ms/step - loss: 0.2103 - accuracy: 0.6790\n",
            "Epoch 39/100\n",
            "28/28 [==============================] - 0s 1ms/step - loss: 0.2101 - accuracy: 0.6869\n",
            "Epoch 40/100\n",
            "28/28 [==============================] - 0s 1ms/step - loss: 0.2099 - accuracy: 0.6880\n",
            "Epoch 41/100\n",
            "28/28 [==============================] - 0s 1ms/step - loss: 0.2097 - accuracy: 0.6902\n",
            "Epoch 42/100\n",
            "28/28 [==============================] - 0s 1ms/step - loss: 0.2100 - accuracy: 0.6779\n",
            "Epoch 43/100\n",
            "28/28 [==============================] - 0s 1ms/step - loss: 0.2098 - accuracy: 0.6914\n",
            "Epoch 44/100\n",
            "28/28 [==============================] - 0s 1ms/step - loss: 0.2095 - accuracy: 0.6857\n",
            "Epoch 45/100\n",
            "28/28 [==============================] - 0s 1ms/step - loss: 0.2098 - accuracy: 0.6880\n",
            "Epoch 46/100\n",
            "28/28 [==============================] - 0s 1ms/step - loss: 0.2091 - accuracy: 0.6902\n",
            "Epoch 47/100\n",
            "28/28 [==============================] - 0s 1ms/step - loss: 0.2090 - accuracy: 0.6914\n",
            "Epoch 48/100\n",
            "28/28 [==============================] - 0s 2ms/step - loss: 0.2092 - accuracy: 0.6914\n",
            "Epoch 49/100\n",
            "28/28 [==============================] - 0s 1ms/step - loss: 0.2088 - accuracy: 0.6891\n",
            "Epoch 50/100\n",
            "28/28 [==============================] - 0s 1ms/step - loss: 0.2087 - accuracy: 0.6925\n",
            "Epoch 51/100\n",
            "28/28 [==============================] - 0s 1ms/step - loss: 0.2087 - accuracy: 0.6902\n",
            "Epoch 52/100\n",
            "28/28 [==============================] - 0s 1ms/step - loss: 0.2088 - accuracy: 0.6914\n",
            "Epoch 53/100\n",
            "28/28 [==============================] - 0s 2ms/step - loss: 0.2087 - accuracy: 0.6914\n",
            "Epoch 54/100\n",
            "28/28 [==============================] - 0s 2ms/step - loss: 0.2084 - accuracy: 0.6936\n",
            "Epoch 55/100\n",
            "28/28 [==============================] - 0s 2ms/step - loss: 0.2087 - accuracy: 0.6902\n",
            "Epoch 56/100\n",
            "28/28 [==============================] - 0s 1ms/step - loss: 0.2086 - accuracy: 0.6869\n",
            "Epoch 57/100\n",
            "28/28 [==============================] - 0s 1ms/step - loss: 0.2084 - accuracy: 0.6947\n",
            "Epoch 58/100\n",
            "28/28 [==============================] - 0s 1ms/step - loss: 0.2081 - accuracy: 0.6925\n",
            "Epoch 59/100\n",
            "28/28 [==============================] - 0s 1ms/step - loss: 0.2082 - accuracy: 0.6869\n",
            "Epoch 60/100\n",
            "28/28 [==============================] - 0s 1ms/step - loss: 0.2082 - accuracy: 0.6914\n",
            "Epoch 61/100\n",
            "28/28 [==============================] - 0s 1ms/step - loss: 0.2081 - accuracy: 0.6902\n",
            "Epoch 62/100\n",
            "28/28 [==============================] - 0s 1ms/step - loss: 0.2079 - accuracy: 0.6914\n",
            "Epoch 63/100\n",
            "28/28 [==============================] - 0s 1ms/step - loss: 0.2080 - accuracy: 0.6925\n",
            "Epoch 64/100\n",
            "28/28 [==============================] - 0s 1ms/step - loss: 0.2077 - accuracy: 0.6925\n",
            "Epoch 65/100\n",
            "28/28 [==============================] - 0s 1ms/step - loss: 0.2078 - accuracy: 0.6925\n",
            "Epoch 66/100\n",
            "28/28 [==============================] - 0s 1ms/step - loss: 0.2078 - accuracy: 0.6914\n",
            "Epoch 67/100\n",
            "28/28 [==============================] - 0s 1ms/step - loss: 0.2079 - accuracy: 0.6936\n",
            "Epoch 68/100\n",
            "28/28 [==============================] - 0s 1ms/step - loss: 0.2076 - accuracy: 0.6902\n",
            "Epoch 69/100\n",
            "28/28 [==============================] - 0s 1ms/step - loss: 0.2075 - accuracy: 0.6891\n",
            "Epoch 70/100\n",
            "28/28 [==============================] - 0s 2ms/step - loss: 0.2074 - accuracy: 0.6914\n",
            "Epoch 71/100\n",
            "28/28 [==============================] - 0s 2ms/step - loss: 0.2075 - accuracy: 0.6936\n",
            "Epoch 72/100\n",
            "28/28 [==============================] - 0s 1ms/step - loss: 0.2072 - accuracy: 0.6936\n",
            "Epoch 73/100\n",
            "28/28 [==============================] - 0s 1ms/step - loss: 0.2073 - accuracy: 0.6958\n",
            "Epoch 74/100\n",
            "28/28 [==============================] - 0s 1ms/step - loss: 0.2070 - accuracy: 0.6925\n",
            "Epoch 75/100\n",
            "28/28 [==============================] - 0s 1ms/step - loss: 0.2072 - accuracy: 0.6936\n",
            "Epoch 76/100\n",
            "28/28 [==============================] - 0s 1ms/step - loss: 0.2069 - accuracy: 0.6936\n",
            "Epoch 77/100\n",
            "28/28 [==============================] - 0s 1ms/step - loss: 0.2072 - accuracy: 0.6936\n",
            "Epoch 78/100\n",
            "28/28 [==============================] - 0s 2ms/step - loss: 0.2074 - accuracy: 0.6936\n",
            "Epoch 79/100\n",
            "28/28 [==============================] - 0s 1ms/step - loss: 0.2068 - accuracy: 0.6936\n",
            "Epoch 80/100\n",
            "28/28 [==============================] - 0s 1ms/step - loss: 0.2068 - accuracy: 0.6936\n",
            "Epoch 81/100\n",
            "28/28 [==============================] - 0s 1ms/step - loss: 0.2068 - accuracy: 0.6981\n",
            "Epoch 82/100\n",
            "28/28 [==============================] - 0s 1ms/step - loss: 0.2066 - accuracy: 0.6970\n",
            "Epoch 83/100\n",
            "28/28 [==============================] - 0s 1ms/step - loss: 0.2065 - accuracy: 0.6981\n",
            "Epoch 84/100\n",
            "28/28 [==============================] - 0s 1ms/step - loss: 0.2071 - accuracy: 0.6880\n",
            "Epoch 85/100\n",
            "28/28 [==============================] - 0s 2ms/step - loss: 0.2066 - accuracy: 0.6958\n",
            "Epoch 86/100\n",
            "28/28 [==============================] - 0s 1ms/step - loss: 0.2070 - accuracy: 0.6936\n",
            "Epoch 87/100\n",
            "28/28 [==============================] - 0s 1ms/step - loss: 0.2069 - accuracy: 0.6914\n",
            "Epoch 88/100\n",
            "28/28 [==============================] - 0s 2ms/step - loss: 0.2064 - accuracy: 0.6992\n",
            "Epoch 89/100\n",
            "28/28 [==============================] - 0s 1ms/step - loss: 0.2065 - accuracy: 0.6914\n",
            "Epoch 90/100\n",
            "28/28 [==============================] - 0s 1ms/step - loss: 0.2062 - accuracy: 0.6936\n",
            "Epoch 91/100\n",
            "28/28 [==============================] - 0s 1ms/step - loss: 0.2062 - accuracy: 0.6936\n",
            "Epoch 92/100\n",
            "28/28 [==============================] - 0s 2ms/step - loss: 0.2061 - accuracy: 0.6992\n",
            "Epoch 93/100\n",
            "28/28 [==============================] - 0s 1ms/step - loss: 0.2061 - accuracy: 0.6970\n",
            "Epoch 94/100\n",
            "28/28 [==============================] - 0s 1ms/step - loss: 0.2059 - accuracy: 0.6981\n",
            "Epoch 95/100\n",
            "28/28 [==============================] - 0s 2ms/step - loss: 0.2061 - accuracy: 0.6981\n",
            "Epoch 96/100\n",
            "28/28 [==============================] - 0s 2ms/step - loss: 0.2058 - accuracy: 0.7003\n",
            "Epoch 97/100\n",
            "28/28 [==============================] - 0s 1ms/step - loss: 0.2057 - accuracy: 0.6992\n",
            "Epoch 98/100\n",
            "28/28 [==============================] - 0s 2ms/step - loss: 0.2059 - accuracy: 0.6970\n",
            "Epoch 99/100\n",
            "28/28 [==============================] - 0s 1ms/step - loss: 0.2057 - accuracy: 0.7015\n",
            "Epoch 100/100\n",
            "28/28 [==============================] - 0s 2ms/step - loss: 0.2056 - accuracy: 0.6992\n"
          ],
          "name": "stdout"
        }
      ]
    },
    {
      "cell_type": "code",
      "metadata": {
        "colab": {
          "base_uri": "https://localhost:8080/"
        },
        "id": "-kmpD4G8r8YH",
        "outputId": "b80caf53-97de-4ade-f7dd-ae65a2d09eae"
      },
      "source": [
        "print(\"Classical NN Accuracy : \", history.history['accuracy'][-1])\n",
        "print(\"Quantum NN Accuracy   : \", su/len(Y))\n"
      ],
      "execution_count": null,
      "outputs": [
        {
          "output_type": "stream",
          "text": [
            "Classical NN Accuracy :  0.6992143392562866\n",
            "Quantum NN Accuracy   :  0.67003367003367\n"
          ],
          "name": "stdout"
        }
      ]
    },
    {
      "cell_type": "code",
      "metadata": {
        "colab": {
          "base_uri": "https://localhost:8080/",
          "height": 279
        },
        "id": "v3f5H9boVGBD",
        "outputId": "e1a92b3b-65fb-4203-f54d-dcf937d86e6f"
      },
      "source": [
        "plt.figure()\n",
        "plt.plot(history.history['loss'], label = 'ANN loss')\n",
        "plt.plot(loss_plot, label = 'QNN loss')\n",
        "plt.xlabel(\"Iter\")\n",
        "plt.legend()\n",
        "plt.tick_params(axis=\"both\", which=\"major\")\n",
        "plt.tick_params(axis=\"both\", which=\"minor\")\n",
        "plt.show()\n"
      ],
      "execution_count": null,
      "outputs": [
        {
          "output_type": "display_data",
          "data": {
            "image/png": "[encoded data removed]",
            "text/plain": [
              "<Figure size 432x288 with 1 Axes>"
            ]
          },
          "metadata": {
            "tags": [],
            "needs_background": "light"
          }
        }
      ]
    },
    {
      "cell_type": "code",
      "metadata": {
        "id": "o9ON6QxRr4cq"
      },
      "source": [
        ""
      ],
      "execution_count": null,
      "outputs": []
    }
  ]
}